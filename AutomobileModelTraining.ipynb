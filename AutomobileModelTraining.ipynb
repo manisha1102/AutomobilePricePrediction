{
 "cells": [
  {
   "cell_type": "code",
   "execution_count": 1,
   "metadata": {},
   "outputs": [],
   "source": [
    "import numpy as np\n",
    "import pandas as pd\n",
    "import matplotlib.pyplot as plt\n",
    "%matplotlib inline\n",
    "import seaborn as sns"
   ]
  },
  {
   "cell_type": "code",
   "execution_count": 2,
   "metadata": {},
   "outputs": [
    {
     "data": {
      "text/html": [
       "<div>\n",
       "<style scoped>\n",
       "    .dataframe tbody tr th:only-of-type {\n",
       "        vertical-align: middle;\n",
       "    }\n",
       "\n",
       "    .dataframe tbody tr th {\n",
       "        vertical-align: top;\n",
       "    }\n",
       "\n",
       "    .dataframe thead th {\n",
       "        text-align: right;\n",
       "    }\n",
       "</style>\n",
       "<table border=\"1\" class=\"dataframe\">\n",
       "  <thead>\n",
       "    <tr style=\"text-align: right;\">\n",
       "      <th></th>\n",
       "      <th>symboling</th>\n",
       "      <th>normalized-losses</th>\n",
       "      <th>wheel-base</th>\n",
       "      <th>length</th>\n",
       "      <th>width</th>\n",
       "      <th>height</th>\n",
       "      <th>curb-weight</th>\n",
       "      <th>engine-size</th>\n",
       "      <th>bore</th>\n",
       "      <th>stroke</th>\n",
       "      <th>compression-ratio</th>\n",
       "      <th>horsepower</th>\n",
       "      <th>peak-rpm</th>\n",
       "      <th>city-mpg</th>\n",
       "      <th>highway-mpg</th>\n",
       "      <th>price</th>\n",
       "    </tr>\n",
       "  </thead>\n",
       "  <tbody>\n",
       "    <tr>\n",
       "      <th>0</th>\n",
       "      <td>3</td>\n",
       "      <td>4.744932</td>\n",
       "      <td>4.484132</td>\n",
       "      <td>5.128715</td>\n",
       "      <td>4.160444</td>\n",
       "      <td>3.887730</td>\n",
       "      <td>7.843064</td>\n",
       "      <td>4.867534</td>\n",
       "      <td>1.244155</td>\n",
       "      <td>0.985817</td>\n",
       "      <td>2.197225</td>\n",
       "      <td>4.709530</td>\n",
       "      <td>8.517193</td>\n",
       "      <td>3.044522</td>\n",
       "      <td>3.295837</td>\n",
       "      <td>9.510075</td>\n",
       "    </tr>\n",
       "    <tr>\n",
       "      <th>1</th>\n",
       "      <td>3</td>\n",
       "      <td>4.744932</td>\n",
       "      <td>4.484132</td>\n",
       "      <td>5.128715</td>\n",
       "      <td>4.160444</td>\n",
       "      <td>3.887730</td>\n",
       "      <td>7.843064</td>\n",
       "      <td>4.867534</td>\n",
       "      <td>1.244155</td>\n",
       "      <td>0.985817</td>\n",
       "      <td>2.197225</td>\n",
       "      <td>4.709530</td>\n",
       "      <td>8.517193</td>\n",
       "      <td>3.044522</td>\n",
       "      <td>3.295837</td>\n",
       "      <td>9.711116</td>\n",
       "    </tr>\n",
       "    <tr>\n",
       "      <th>2</th>\n",
       "      <td>1</td>\n",
       "      <td>4.744932</td>\n",
       "      <td>4.548600</td>\n",
       "      <td>5.142832</td>\n",
       "      <td>4.182050</td>\n",
       "      <td>3.958907</td>\n",
       "      <td>7.945555</td>\n",
       "      <td>5.023881</td>\n",
       "      <td>0.985817</td>\n",
       "      <td>1.244155</td>\n",
       "      <td>2.197225</td>\n",
       "      <td>5.036953</td>\n",
       "      <td>8.517193</td>\n",
       "      <td>2.944439</td>\n",
       "      <td>3.258097</td>\n",
       "      <td>9.711116</td>\n",
       "    </tr>\n",
       "    <tr>\n",
       "      <th>3</th>\n",
       "      <td>2</td>\n",
       "      <td>5.099866</td>\n",
       "      <td>4.603168</td>\n",
       "      <td>5.173887</td>\n",
       "      <td>4.192680</td>\n",
       "      <td>3.994524</td>\n",
       "      <td>7.756623</td>\n",
       "      <td>4.691348</td>\n",
       "      <td>1.160021</td>\n",
       "      <td>1.223775</td>\n",
       "      <td>2.302585</td>\n",
       "      <td>4.624973</td>\n",
       "      <td>8.612503</td>\n",
       "      <td>3.178054</td>\n",
       "      <td>3.401197</td>\n",
       "      <td>9.543235</td>\n",
       "    </tr>\n",
       "    <tr>\n",
       "      <th>4</th>\n",
       "      <td>2</td>\n",
       "      <td>5.099866</td>\n",
       "      <td>4.599152</td>\n",
       "      <td>5.173887</td>\n",
       "      <td>4.195697</td>\n",
       "      <td>3.994524</td>\n",
       "      <td>7.945910</td>\n",
       "      <td>4.912655</td>\n",
       "      <td>1.160021</td>\n",
       "      <td>1.223775</td>\n",
       "      <td>2.079442</td>\n",
       "      <td>4.744932</td>\n",
       "      <td>8.612503</td>\n",
       "      <td>2.890372</td>\n",
       "      <td>3.091042</td>\n",
       "      <td>9.767095</td>\n",
       "    </tr>\n",
       "  </tbody>\n",
       "</table>\n",
       "</div>"
      ],
      "text/plain": [
       "   symboling  normalized-losses  wheel-base    length     width    height  \\\n",
       "0          3           4.744932    4.484132  5.128715  4.160444  3.887730   \n",
       "1          3           4.744932    4.484132  5.128715  4.160444  3.887730   \n",
       "2          1           4.744932    4.548600  5.142832  4.182050  3.958907   \n",
       "3          2           5.099866    4.603168  5.173887  4.192680  3.994524   \n",
       "4          2           5.099866    4.599152  5.173887  4.195697  3.994524   \n",
       "\n",
       "   curb-weight  engine-size      bore    stroke  compression-ratio  \\\n",
       "0     7.843064     4.867534  1.244155  0.985817           2.197225   \n",
       "1     7.843064     4.867534  1.244155  0.985817           2.197225   \n",
       "2     7.945555     5.023881  0.985817  1.244155           2.197225   \n",
       "3     7.756623     4.691348  1.160021  1.223775           2.302585   \n",
       "4     7.945910     4.912655  1.160021  1.223775           2.079442   \n",
       "\n",
       "   horsepower  peak-rpm  city-mpg  highway-mpg     price  \n",
       "0    4.709530  8.517193  3.044522     3.295837  9.510075  \n",
       "1    4.709530  8.517193  3.044522     3.295837  9.711116  \n",
       "2    5.036953  8.517193  2.944439     3.258097  9.711116  \n",
       "3    4.624973  8.612503  3.178054     3.401197  9.543235  \n",
       "4    4.744932  8.612503  2.890372     3.091042  9.767095  "
      ]
     },
     "execution_count": 2,
     "metadata": {},
     "output_type": "execute_result"
    }
   ],
   "source": [
    "data = pd.read_csv('auto_data_cleaned.csv')\n",
    "data.head()"
   ]
  },
  {
   "cell_type": "code",
   "execution_count": 3,
   "metadata": {},
   "outputs": [],
   "source": [
    "y = data['price']\n",
    "x = data.drop('price', axis=1)"
   ]
  },
  {
   "cell_type": "code",
   "execution_count": 4,
   "metadata": {},
   "outputs": [],
   "source": [
    "from sklearn.model_selection import train_test_split\n",
    "x_train, x_test, y_train, y_test = train_test_split(x, y, test_size=0.25)"
   ]
  },
  {
   "cell_type": "code",
   "execution_count": 5,
   "metadata": {},
   "outputs": [],
   "source": [
    "from sklearn.linear_model import LinearRegression\n",
    "regr = LinearRegression()"
   ]
  },
  {
   "cell_type": "code",
   "execution_count": 6,
   "metadata": {},
   "outputs": [
    {
     "data": {
      "text/plain": [
       "LinearRegression()"
      ]
     },
     "execution_count": 6,
     "metadata": {},
     "output_type": "execute_result"
    }
   ],
   "source": [
    "regr.fit(x_train, y_train)"
   ]
  },
  {
   "cell_type": "code",
   "execution_count": 7,
   "metadata": {},
   "outputs": [],
   "source": [
    "y_pred = regr.predict(x_test)"
   ]
  },
  {
   "cell_type": "code",
   "execution_count": 8,
   "metadata": {},
   "outputs": [
    {
     "data": {
      "text/plain": [
       "0.8362242615188092"
      ]
     },
     "execution_count": 8,
     "metadata": {},
     "output_type": "execute_result"
    }
   ],
   "source": [
    "from sklearn.metrics import r2_score\n",
    "score = r2_score(y_test, y_pred)\n",
    "score"
   ]
  },
  {
   "cell_type": "code",
   "execution_count": null,
   "metadata": {},
   "outputs": [],
   "source": []
  }
 ],
 "metadata": {
  "kernelspec": {
   "display_name": "Python 3",
   "language": "python",
   "name": "python3"
  },
  "language_info": {
   "codemirror_mode": {
    "name": "ipython",
    "version": 3
   },
   "file_extension": ".py",
   "mimetype": "text/x-python",
   "name": "python",
   "nbconvert_exporter": "python",
   "pygments_lexer": "ipython3",
   "version": "3.8.5"
  }
 },
 "nbformat": 4,
 "nbformat_minor": 4
}
